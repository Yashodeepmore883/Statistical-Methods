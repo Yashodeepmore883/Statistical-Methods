{
 "cells": [
  {
   "cell_type": "code",
   "execution_count": 1,
   "id": "892487be",
   "metadata": {},
   "outputs": [],
   "source": [
    "import numpy as np\n",
    "import pandas as pd"
   ]
  },
  {
   "cell_type": "code",
   "execution_count": 2,
   "id": "bc34cf27",
   "metadata": {},
   "outputs": [],
   "source": [
    "Xi = np.array([10, 11, 12, 13, 14])\n",
    "fi = np.array([3, 12, 18, 12, 3])"
   ]
  },
  {
   "cell_type": "code",
   "execution_count": 6,
   "id": "04125ebf",
   "metadata": {},
   "outputs": [
    {
     "name": "stdout",
     "output_type": "stream",
     "text": [
      "Mean: 12.0\n"
     ]
    }
   ],
   "source": [
    "mean = np.sum(Xi * fi) / np.sum(fi)\n",
    "print(\"Mean:\", mean)"
   ]
  },
  {
   "cell_type": "code",
   "execution_count": 7,
   "id": "c9e92c4e",
   "metadata": {},
   "outputs": [
    {
     "name": "stdout",
     "output_type": "stream",
     "text": [
      "Variance: 1.0\n"
     ]
    }
   ],
   "source": [
    "variance = np.sum((Xi - mean)**2 * fi) / np.sum(fi)\n",
    "print(\"Variance:\", variance)"
   ]
  },
  {
   "cell_type": "code",
   "execution_count": 8,
   "id": "082ec668",
   "metadata": {},
   "outputs": [
    {
     "name": "stdout",
     "output_type": "stream",
     "text": [
      "Standard Deviation: 1.0\n"
     ]
    }
   ],
   "source": [
    "std_deviation = np.sqrt(variance)\n",
    "print(\"Standard Deviation:\", std_deviation)"
   ]
  },
  {
   "cell_type": "code",
   "execution_count": 9,
   "id": "e1fdc948",
   "metadata": {},
   "outputs": [
    {
     "name": "stdout",
     "output_type": "stream",
     "text": [
      "Median: 13.0\n"
     ]
    }
   ],
   "source": [
    "Xi = np.array([3, 6, 9, 12, 13, 15, 21, 22])\n",
    "fi = np.array([3, 4, 5, 2, 4, 5, 4, 3])\n",
    "\n",
    "data = []\n",
    "for value, frequency in zip(Xi, fi):\n",
    "    data.extend([value] * frequency)\n",
    "\n",
    "median = np.median(data)\n",
    "\n",
    "print(\"Median:\", median)"
   ]
  },
  {
   "cell_type": "code",
   "execution_count": 12,
   "id": "ca49e39c",
   "metadata": {},
   "outputs": [
    {
     "name": "stdout",
     "output_type": "stream",
     "text": [
      "Mean: 25.0\n"
     ]
    }
   ],
   "source": [
    "import numpy as np\n",
    "\n",
    "class_intervals = ['0-10', '10-20', '20-30', '30-40', '40-50']\n",
    "frequencies = np.array([14, 23, 27, 21, 15])\n",
    "\n",
    "midpoints = np.array([5, 15, 25, 35, 45])\n",
    "\n",
    "mean = np.sum(midpoints * frequencies) / np.sum(frequencies)\n",
    "\n",
    "print(\"Mean:\", mean)"
   ]
  },
  {
   "cell_type": "code",
   "execution_count": 13,
   "id": "1cb86eed",
   "metadata": {},
   "outputs": [
    {
     "name": "stdout",
     "output_type": "stream",
     "text": [
      "Variance: 160.0\n"
     ]
    }
   ],
   "source": [
    "variance = np.sum(((midpoints - mean) ** 2) * frequencies) / np.sum(frequencies)\n",
    "print(\"Variance:\", variance)"
   ]
  }
 ],
 "metadata": {
  "kernelspec": {
   "display_name": "Python 3 (ipykernel)",
   "language": "python",
   "name": "python3"
  },
  "language_info": {
   "codemirror_mode": {
    "name": "ipython",
    "version": 3
   },
   "file_extension": ".py",
   "mimetype": "text/x-python",
   "name": "python",
   "nbconvert_exporter": "python",
   "pygments_lexer": "ipython3",
   "version": "3.11.5"
  }
 },
 "nbformat": 4,
 "nbformat_minor": 5
}

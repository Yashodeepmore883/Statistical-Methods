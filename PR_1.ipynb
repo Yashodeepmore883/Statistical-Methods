{
 "cells": [
  {
   "cell_type": "code",
   "execution_count": 1,
   "id": "9bca689d",
   "metadata": {},
   "outputs": [],
   "source": [
    "import numpy as np\n",
    "import pandas as pd"
   ]
  },
  {
   "cell_type": "code",
   "execution_count": 2,
   "id": "a9fe977b",
   "metadata": {},
   "outputs": [
    {
     "name": "stdout",
     "output_type": "stream",
     "text": [
      "Mean is: 9.0\n"
     ]
    }
   ],
   "source": [
    "n_num = [6,7,10,12,13,4,8,12] \n",
    "n = len(n_num) \n",
    " \n",
    "get_sum = sum(n_num) \n",
    "mean = get_sum / n \n",
    " \n",
    "print(\"Mean is: \" + str(mean)) "
   ]
  },
  {
   "cell_type": "code",
   "execution_count": 8,
   "id": "9e809111",
   "metadata": {},
   "outputs": [
    {
     "name": "stdout",
     "output_type": "stream",
     "text": [
      "9.0\n"
     ]
    }
   ],
   "source": [
    "n_num = [6,7,10,12,13,4,8,12] \n",
    "n = len(n_num) \n",
    " \n",
    "average = sum(n_num) / len(n_num)\n",
    "print(average)"
   ]
  },
  {
   "cell_type": "code",
   "execution_count": 9,
   "id": "4a0fa318",
   "metadata": {},
   "outputs": [
    {
     "data": {
      "text/plain": [
       "9.25"
      ]
     },
     "execution_count": 9,
     "metadata": {},
     "output_type": "execute_result"
    }
   ],
   "source": [
    "def variance(data):\n",
    "    n = len(data)\n",
    "    mean = sum(data) / n\n",
    "    deviations = [(x - mean) ** 2 for x in data]\n",
    "    variance = sum(deviations) / n\n",
    "    return variance\n",
    "\n",
    "variance([6,7,10,12,13,4,8,12])"
   ]
  },
  {
   "cell_type": "code",
   "execution_count": 10,
   "id": "ad9e3c58",
   "metadata": {},
   "outputs": [
    {
     "name": "stdout",
     "output_type": "stream",
     "text": [
      "Median is: 9.0\n"
     ]
    }
   ],
   "source": [
    "n_num = [6,7,10,12,13,4,8,12] \n",
    "n = len(n_num) \n",
    "n_num.sort() \n",
    " \n",
    "if n % 2 == 0: \n",
    "    median1 = n_num[n//2] \n",
    "    median2 = n_num[n//2 - 1] \n",
    "    median = (median1 + median2)/2\n",
    "else: \n",
    "    median = n_num[n//2] \n",
    "print(\"Median is: \" + str(median)) "
   ]
  },
  {
   "cell_type": "code",
   "execution_count": 14,
   "id": "e1173808",
   "metadata": {},
   "outputs": [
    {
     "name": "stdout",
     "output_type": "stream",
     "text": [
      "Mode is : 12\n"
     ]
    }
   ],
   "source": [
    "from collections import Counter\n",
    "n_num = [6,7,10,12,13,4,8,12] \n",
    "n = len(n_num) \n",
    " \n",
    "data = Counter(n_num) \n",
    "get_mode = dict(data) \n",
    "mode = [k for k, v in get_mode.items() if v == max(list(data.values()))] \n",
    " \n",
    "if len(mode) == n: \n",
    "    get_mode = \"No mode found\"\n",
    "else: \n",
    "    get_mode = \"Mode is : \" + ', '.join(map(str, mode)) \n",
    "     \n",
    "print(get_mode) "
   ]
  },
  {
   "cell_type": "code",
   "execution_count": 16,
   "id": "dd7ee375",
   "metadata": {},
   "outputs": [
    {
     "name": "stdout",
     "output_type": "stream",
     "text": [
      "The original list is : [6, 7, 10, 12, 13, 4, 8, 12]\n",
      "Mean deviation is : [3, 2, 1, 3, 4, 5, 1, 3]\n"
     ]
    }
   ],
   "source": [
    "from statistics import mean\n",
    "\n",
    "test_list = [6,7,10,12,13,4,8,12]\n",
    "\n",
    "print(\"The original list is : \" + str(test_list))\n",
    "\n",
    "res = []\n",
    "\n",
    "mean_val = mean(test_list)\n",
    "\n",
    "res = [abs(ele - mean_val) for ele in test_list]\n",
    "\n",
    "print(\"Mean deviation is : \" + str(res))"
   ]
  },
  {
   "cell_type": "code",
   "execution_count": 17,
   "id": "6995b893",
   "metadata": {},
   "outputs": [
    {
     "name": "stdout",
     "output_type": "stream",
     "text": [
      "Mean of first 10 multiples of 3 are : 16.5\n"
     ]
    }
   ],
   "source": [
    "n_num = [3,6,9,12,15,18,21,24,27,30] \n",
    "n = len(n_num) \n",
    " \n",
    "get_sum = sum(n_num) \n",
    "mean = get_sum / n \n",
    " \n",
    "print(\"Mean of first 10 multiples of 3 are : \" + str(mean)) "
   ]
  },
  {
   "cell_type": "code",
   "execution_count": 18,
   "id": "ef406d74",
   "metadata": {},
   "outputs": [
    {
     "name": "stdout",
     "output_type": "stream",
     "text": [
      "Variance of first 10 multiples of 3 are : [3, 2, 1, 3, 4, 5, 1, 3]\n"
     ]
    }
   ],
   "source": [
    "def variance(data):\n",
    "    n = len(data)\n",
    "    mean = sum(data) / n\n",
    "    deviations = [(x - mean) ** 2 for x in data]\n",
    "    variance = sum(deviations) / n\n",
    "    return variance\n",
    "\n",
    "variance([3,6,9,12,15,18,21,24,27,30])\n",
    "print(\"Variance of first 10 multiples of 3 are : \" + str(res))"
   ]
  },
  {
   "cell_type": "code",
   "execution_count": 19,
   "id": "3dbad207",
   "metadata": {},
   "outputs": [
    {
     "name": "stdout",
     "output_type": "stream",
     "text": [
      "The original list is : [4, 7, 8, 9, 10, 12, 13, 17]\n",
      "Mean deviation is : [6, 3, 2, 1, 0, 2, 3, 7]\n"
     ]
    }
   ],
   "source": [
    "from statistics import mean\n",
    "\n",
    "test_list = [4,7,8,9,10,12,13,17]\n",
    "\n",
    "print(\"The original list is : \" + str(test_list))\n",
    "\n",
    "res = []\n",
    "\n",
    "mean_val = mean(test_list)\n",
    "\n",
    "res = [abs(ele - mean_val) for ele in test_list]\n",
    "\n",
    "print(\"Mean deviation is : \" + str(res))"
   ]
  },
  {
   "cell_type": "code",
   "execution_count": 20,
   "id": "abab0ee8",
   "metadata": {},
   "outputs": [
    {
     "name": "stdout",
     "output_type": "stream",
     "text": [
      "The original list is : [38, 70, 48, 40, 42, 55, 63, 46, 54, 44]\n",
      "Mean deviation is : [12, 20, 2, 10, 8, 5, 13, 4, 4, 6]\n"
     ]
    }
   ],
   "source": [
    "from statistics import mean\n",
    "\n",
    "test_list = [38,70,48,40,42,55,63,46,54,44]\n",
    "\n",
    "print(\"The original list is : \" + str(test_list))\n",
    "\n",
    "res = []\n",
    "\n",
    "mean_val = mean(test_list)\n",
    "\n",
    "res = [abs(ele - mean_val) for ele in test_list]\n",
    "\n",
    "print(\"Mean deviation is : \" + str(res))"
   ]
  },
  {
   "cell_type": "code",
   "execution_count": 27,
   "id": "f03cfb08",
   "metadata": {},
   "outputs": [
    {
     "name": "stdout",
     "output_type": "stream",
     "text": [
      "8.0\n",
      "4.800000\n"
     ]
    }
   ],
   "source": [
    "def mean_val(numerator) :\n",
    "    return (float)(1 + numerator) / 2;\n",
    " \n",
    "print(mean_val(numerator))\n",
    "def find_Variance(n):\n",
    "     \n",
    "    numerator = n * n - 1\n",
    "    ans = (numerator * 1.0) / n\n",
    "     \n",
    "    return ans\n",
    "if __name__ == '__main__':\n",
    "     \n",
    "    N = 5\n",
    " \n",
    "    a = find_Variance(N)\n",
    " \n",
    "    print(\"{0:.6f}\".format(a))\n",
    "numerator = n * n - 1"
   ]
  }
 ],
 "metadata": {
  "kernelspec": {
   "display_name": "Python 3 (ipykernel)",
   "language": "python",
   "name": "python3"
  },
  "language_info": {
   "codemirror_mode": {
    "name": "ipython",
    "version": 3
   },
   "file_extension": ".py",
   "mimetype": "text/x-python",
   "name": "python",
   "nbconvert_exporter": "python",
   "pygments_lexer": "ipython3",
   "version": "3.11.5"
  }
 },
 "nbformat": 4,
 "nbformat_minor": 5
}
